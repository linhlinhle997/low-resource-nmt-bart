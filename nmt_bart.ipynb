{
  "cells": [
    {
      "cell_type": "markdown",
      "metadata": {
        "id": "view-in-github",
        "colab_type": "text"
      },
      "source": [
        "<a href=\"https://colab.research.google.com/github/linhlinhle997/low-resource-nmt-bart-t5/blob/develop/nmt_bart.ipynb\" target=\"_parent\"><img src=\"https://colab.research.google.com/assets/colab-badge.svg\" alt=\"Open In Colab\"/></a>"
      ]
    },
    {
      "cell_type": "code",
      "execution_count": null,
      "metadata": {
        "execution": {
          "iopub.execute_input": "2025-03-04T07:02:00.241114Z",
          "iopub.status.busy": "2025-03-04T07:02:00.240706Z",
          "iopub.status.idle": "2025-03-04T07:02:05.036706Z",
          "shell.execute_reply": "2025-03-04T07:02:05.035875Z",
          "shell.execute_reply.started": "2025-03-04T07:02:00.241076Z"
        },
        "id": "bUe36TwQGqPy",
        "trusted": true
      },
      "outputs": [],
      "source": [
        "!pip install -q transformers sentencepiece datasets accelerate evaluate sacrebleu"
      ]
    },
    {
      "cell_type": "code",
      "execution_count": null,
      "metadata": {
        "execution": {
          "iopub.execute_input": "2025-03-04T07:02:05.038351Z",
          "iopub.status.busy": "2025-03-04T07:02:05.038030Z",
          "iopub.status.idle": "2025-03-04T07:02:27.358391Z",
          "shell.execute_reply": "2025-03-04T07:02:27.357754Z",
          "shell.execute_reply.started": "2025-03-04T07:02:05.038319Z"
        },
        "id": "2axydbmuQWqb",
        "trusted": true
      },
      "outputs": [],
      "source": [
        "import os\n",
        "from tqdm import tqdm\n",
        "from datasets import load_dataset\n",
        "import numpy as np\n",
        "import evaluate\n",
        "import matplotlib.pyplot as plt\n",
        "\n",
        "import torch\n",
        "from transformers import (\n",
        "    AutoTokenizer,\n",
        "    AutoTokenizer,\n",
        "    AutoModelForSeq2SeqLM,\n",
        "    Seq2SeqTrainingArguments,\n",
        "    DataCollatorForSeq2Seq,\n",
        "    Seq2SeqTrainer,\n",
        "    pipeline,\n",
        "    DefaultFlowCallback\n",
        ")\n",
        "import sacrebleu\n",
        "import warnings\n",
        "\n",
        "warnings.filterwarnings(\"ignore\")"
      ]
    },
    {
      "cell_type": "code",
      "execution_count": null,
      "metadata": {
        "execution": {
          "iopub.execute_input": "2025-03-04T07:02:27.360138Z",
          "iopub.status.busy": "2025-03-04T07:02:27.359558Z",
          "iopub.status.idle": "2025-03-04T07:02:30.114275Z",
          "shell.execute_reply": "2025-03-04T07:02:30.113700Z",
          "shell.execute_reply.started": "2025-03-04T07:02:27.360114Z"
        },
        "id": "rHQxSdzqQZ14",
        "outputId": "96543673-fae3-4df5-8e1a-f65dc0b2a23d",
        "trusted": true,
        "colab": {
          "referenced_widgets": [
            "c2b55fd646d14cc2bc15ab6318ce1813",
            "6cc56402e3a54b2ab1a655e2397a657a",
            "5faa6779e12a47a193182bad17f793aa",
            "8062187d7a6945739ab65df1394163c9",
            "60ae5619ed464f65918c083439e37224",
            "69676e93b0cb4461af6e7771b18d5797"
          ]
        }
      },
      "outputs": [
        {
          "data": {
            "application/vnd.jupyter.widget-view+json": {
              "model_id": "c2b55fd646d14cc2bc15ab6318ce1813",
              "version_major": 2,
              "version_minor": 0
            },
            "text/plain": [
              "README.md:   0%|          | 0.00/522 [00:00<?, ?B/s]"
            ]
          },
          "metadata": {},
          "output_type": "display_data"
        },
        {
          "data": {
            "application/vnd.jupyter.widget-view+json": {
              "model_id": "6cc56402e3a54b2ab1a655e2397a657a",
              "version_major": 2,
              "version_minor": 0
            },
            "text/plain": [
              "train-00000-of-00001.parquet:   0%|          | 0.00/17.8M [00:00<?, ?B/s]"
            ]
          },
          "metadata": {},
          "output_type": "display_data"
        },
        {
          "data": {
            "application/vnd.jupyter.widget-view+json": {
              "model_id": "5faa6779e12a47a193182bad17f793aa",
              "version_major": 2,
              "version_minor": 0
            },
            "text/plain": [
              "validation-00000-of-00001.parquet:   0%|          | 0.00/181k [00:00<?, ?B/s]"
            ]
          },
          "metadata": {},
          "output_type": "display_data"
        },
        {
          "data": {
            "application/vnd.jupyter.widget-view+json": {
              "model_id": "8062187d7a6945739ab65df1394163c9",
              "version_major": 2,
              "version_minor": 0
            },
            "text/plain": [
              "Generating train split:   0%|          | 0/133317 [00:00<?, ? examples/s]"
            ]
          },
          "metadata": {},
          "output_type": "display_data"
        },
        {
          "data": {
            "application/vnd.jupyter.widget-view+json": {
              "model_id": "60ae5619ed464f65918c083439e37224",
              "version_major": 2,
              "version_minor": 0
            },
            "text/plain": [
              "Generating validation split:   0%|          | 0/1268 [00:00<?, ? examples/s]"
            ]
          },
          "metadata": {},
          "output_type": "display_data"
        },
        {
          "data": {
            "application/vnd.jupyter.widget-view+json": {
              "model_id": "69676e93b0cb4461af6e7771b18d5797",
              "version_major": 2,
              "version_minor": 0
            },
            "text/plain": [
              "Generating test split:   0%|          | 0/1268 [00:00<?, ? examples/s]"
            ]
          },
          "metadata": {},
          "output_type": "display_data"
        }
      ],
      "source": [
        "ds = load_dataset(\"thainq107/iwslt2015-en-vi\")"
      ]
    },
    {
      "cell_type": "code",
      "execution_count": null,
      "metadata": {
        "execution": {
          "iopub.execute_input": "2025-03-04T07:02:30.115731Z",
          "iopub.status.busy": "2025-03-04T07:02:30.115479Z",
          "iopub.status.idle": "2025-03-04T07:02:30.120704Z",
          "shell.execute_reply": "2025-03-04T07:02:30.119871Z",
          "shell.execute_reply.started": "2025-03-04T07:02:30.115709Z"
        },
        "id": "zyYr5EQhR1UI",
        "outputId": "164f7d71-9d20-421e-ef2d-5e5c4d07f145",
        "trusted": true
      },
      "outputs": [
        {
          "data": {
            "text/plain": [
              "DatasetDict({\n",
              "    train: Dataset({\n",
              "        features: ['en', 'vi'],\n",
              "        num_rows: 133317\n",
              "    })\n",
              "    validation: Dataset({\n",
              "        features: ['en', 'vi'],\n",
              "        num_rows: 1268\n",
              "    })\n",
              "    test: Dataset({\n",
              "        features: ['en', 'vi'],\n",
              "        num_rows: 1268\n",
              "    })\n",
              "})"
            ]
          },
          "execution_count": 4,
          "metadata": {},
          "output_type": "execute_result"
        }
      ],
      "source": [
        "ds"
      ]
    },
    {
      "cell_type": "code",
      "execution_count": null,
      "metadata": {
        "execution": {
          "iopub.execute_input": "2025-03-04T07:02:30.121714Z",
          "iopub.status.busy": "2025-03-04T07:02:30.121428Z",
          "iopub.status.idle": "2025-03-04T07:02:30.195516Z",
          "shell.execute_reply": "2025-03-04T07:02:30.194782Z",
          "shell.execute_reply.started": "2025-03-04T07:02:30.121694Z"
        },
        "id": "cU4NC3wnR4uX",
        "outputId": "d1c226f0-90c8-4361-da67-95da3be37c0a",
        "trusted": true
      },
      "outputs": [
        {
          "data": {
            "text/plain": [
              "{'en': 'Rachel Pike : The science behind a climate headline',\n",
              " 'vi': 'Khoa học đằng sau một tiêu đề về khí hậu'}"
            ]
          },
          "execution_count": 5,
          "metadata": {},
          "output_type": "execute_result"
        }
      ],
      "source": [
        "single_sample = ds[\"train\"][0]\n",
        "single_sample"
      ]
    },
    {
      "cell_type": "markdown",
      "metadata": {
        "id": "7K8PFVQVQlRP"
      },
      "source": [
        "## Tokenizer"
      ]
    },
    {
      "cell_type": "code",
      "execution_count": null,
      "metadata": {
        "execution": {
          "iopub.execute_input": "2025-03-04T07:02:30.196398Z",
          "iopub.status.busy": "2025-03-04T07:02:30.196205Z",
          "iopub.status.idle": "2025-03-04T07:02:34.047608Z",
          "shell.execute_reply": "2025-03-04T07:02:34.046601Z",
          "shell.execute_reply.started": "2025-03-04T07:02:30.196381Z"
        },
        "id": "wA1x7oqJQknp",
        "outputId": "2faa0a62-6b47-4bd0-99fa-ac58bfce4f99",
        "trusted": true,
        "colab": {
          "referenced_widgets": [
            "dc24426cc36d4dec9b3923885a869ed6",
            "0390cac8e189435b82d1daf0474b273e",
            "708529cf67b74ed0936d6114d0e16bcf",
            "a37a2ceeb4234e9db04970649cec14d3"
          ]
        }
      },
      "outputs": [
        {
          "data": {
            "application/vnd.jupyter.widget-view+json": {
              "model_id": "dc24426cc36d4dec9b3923885a869ed6",
              "version_major": 2,
              "version_minor": 0
            },
            "text/plain": [
              "tokenizer_config.json:   0%|          | 0.00/529 [00:00<?, ?B/s]"
            ]
          },
          "metadata": {},
          "output_type": "display_data"
        },
        {
          "data": {
            "application/vnd.jupyter.widget-view+json": {
              "model_id": "0390cac8e189435b82d1daf0474b273e",
              "version_major": 2,
              "version_minor": 0
            },
            "text/plain": [
              "config.json:   0%|          | 0.00/1.43k [00:00<?, ?B/s]"
            ]
          },
          "metadata": {},
          "output_type": "display_data"
        },
        {
          "data": {
            "application/vnd.jupyter.widget-view+json": {
              "model_id": "708529cf67b74ed0936d6114d0e16bcf",
              "version_major": 2,
              "version_minor": 0
            },
            "text/plain": [
              "sentencepiece.bpe.model:   0%|          | 0.00/5.07M [00:00<?, ?B/s]"
            ]
          },
          "metadata": {},
          "output_type": "display_data"
        },
        {
          "data": {
            "application/vnd.jupyter.widget-view+json": {
              "model_id": "a37a2ceeb4234e9db04970649cec14d3",
              "version_major": 2,
              "version_minor": 0
            },
            "text/plain": [
              "special_tokens_map.json:   0%|          | 0.00/649 [00:00<?, ?B/s]"
            ]
          },
          "metadata": {},
          "output_type": "display_data"
        }
      ],
      "source": [
        "model_name = \"facebook/mbart-large-50-many-to-many-mmt\"\n",
        "tokenizer = AutoTokenizer.from_pretrained(model_name)"
      ]
    },
    {
      "cell_type": "code",
      "execution_count": null,
      "metadata": {
        "execution": {
          "iopub.execute_input": "2025-03-04T07:02:34.049149Z",
          "iopub.status.busy": "2025-03-04T07:02:34.048887Z",
          "iopub.status.idle": "2025-03-04T07:02:34.055323Z",
          "shell.execute_reply": "2025-03-04T07:02:34.054665Z",
          "shell.execute_reply.started": "2025-03-04T07:02:34.049128Z"
        },
        "id": "kR0eeUSJTjUc",
        "outputId": "3e1084f0-4840-489f-da04-612637d7b5f9",
        "trusted": true
      },
      "outputs": [
        {
          "name": "stdout",
          "output_type": "stream",
          "text": [
            "{'input_ids': [250004, 127055, 66937, 13, 152, 581, 41664, 50155, 10, 153552, 10336, 2256, 2], 'attention_mask': [1, 1, 1, 1, 1, 1, 1, 1, 1, 1, 1, 1, 1]}\n",
            "{'input_ids': [250004, 67766, 2546, 218877, 858, 889, 10037, 6248, 1893, 17964, 42254, 2], 'attention_mask': [1, 1, 1, 1, 1, 1, 1, 1, 1, 1, 1, 1]}\n"
          ]
        }
      ],
      "source": [
        "print(tokenizer(single_sample[\"en\"]))\n",
        "print(tokenizer(single_sample[\"vi\"]))"
      ]
    },
    {
      "cell_type": "markdown",
      "metadata": {
        "id": "lFqTEqe3QwEF"
      },
      "source": [
        "## Encoding"
      ]
    },
    {
      "cell_type": "code",
      "execution_count": null,
      "metadata": {
        "execution": {
          "iopub.execute_input": "2025-03-04T07:02:34.058133Z",
          "iopub.status.busy": "2025-03-04T07:02:34.057917Z",
          "iopub.status.idle": "2025-03-04T07:04:23.569314Z",
          "shell.execute_reply": "2025-03-04T07:04:23.568647Z",
          "shell.execute_reply.started": "2025-03-04T07:02:34.058114Z"
        },
        "id": "lZsi6PaoQvkU",
        "trusted": true,
        "colab": {
          "referenced_widgets": [
            "03ffb3f23fb24e0a8c53cb09237f1a46",
            "0a7429e6e12647beb6e31ed7d8d3a1e3",
            "8efccaf6da2444e699e98dcbfff87262"
          ]
        },
        "outputId": "15646094-f4f2-4db4-a3d1-c9a5ee6f0d6c"
      },
      "outputs": [
        {
          "data": {
            "application/vnd.jupyter.widget-view+json": {
              "model_id": "03ffb3f23fb24e0a8c53cb09237f1a46",
              "version_major": 2,
              "version_minor": 0
            },
            "text/plain": [
              "Map:   0%|          | 0/133317 [00:00<?, ? examples/s]"
            ]
          },
          "metadata": {},
          "output_type": "display_data"
        },
        {
          "data": {
            "application/vnd.jupyter.widget-view+json": {
              "model_id": "0a7429e6e12647beb6e31ed7d8d3a1e3",
              "version_major": 2,
              "version_minor": 0
            },
            "text/plain": [
              "Map:   0%|          | 0/1268 [00:00<?, ? examples/s]"
            ]
          },
          "metadata": {},
          "output_type": "display_data"
        },
        {
          "data": {
            "application/vnd.jupyter.widget-view+json": {
              "model_id": "8efccaf6da2444e699e98dcbfff87262",
              "version_major": 2,
              "version_minor": 0
            },
            "text/plain": [
              "Map:   0%|          | 0/1268 [00:00<?, ? examples/s]"
            ]
          },
          "metadata": {},
          "output_type": "display_data"
        }
      ],
      "source": [
        "MAX_LEN = 150\n",
        "\n",
        "def preprocess_fnc(examples):\n",
        "    input_ids = tokenizer(\n",
        "        examples[\"en\"], padding=\"max_length\", truncation=True, max_length=MAX_LEN\n",
        "    )[\"input_ids\"]\n",
        "\n",
        "    labels = tokenizer(\n",
        "        examples[\"vi\"], padding=\"max_length\", truncation=True, max_length=MAX_LEN\n",
        "    )[\"input_ids\"]\n",
        "\n",
        "    labels = [\n",
        "        [-100 if item == tokenizer.pad_token_id else item for item in label]\n",
        "        for label in labels\n",
        "    ]\n",
        "\n",
        "    return {\"input_ids\": input_ids, \"labels\": labels}\n",
        "\n",
        "\n",
        "preprocessed_ds = ds.map(preprocess_fnc, batched=True)"
      ]
    },
    {
      "cell_type": "code",
      "execution_count": null,
      "metadata": {
        "execution": {
          "iopub.execute_input": "2025-03-04T07:04:23.571168Z",
          "iopub.status.busy": "2025-03-04T07:04:23.570897Z",
          "iopub.status.idle": "2025-03-04T07:04:23.577236Z",
          "shell.execute_reply": "2025-03-04T07:04:23.576648Z",
          "shell.execute_reply.started": "2025-03-04T07:04:23.571148Z"
        },
        "id": "gdo3nM2STM4t",
        "outputId": "635a8828-88f9-417b-ae45-b299c37f8156",
        "trusted": true
      },
      "outputs": [
        {
          "name": "stdout",
          "output_type": "stream",
          "text": [
            "{'input_ids': [[250004, 127055, 66937, 13, 152, 581, 41664, 50155, 10, 153552, 10336, 2256, 2, 1, 1, 1, 1, 1, 1, 1, 1, 1, 1, 1, 1, 1, 1, 1, 1, 1, 1, 1, 1, 1, 1, 1, 1, 1, 1, 1, 1, 1, 1, 1, 1, 1, 1, 1, 1, 1, 1, 1, 1, 1, 1, 1, 1, 1, 1, 1, 1, 1, 1, 1, 1, 1, 1, 1, 1, 1, 1, 1, 1, 1, 1, 1, 1, 1, 1, 1, 1, 1, 1, 1, 1, 1, 1, 1, 1, 1, 1, 1, 1, 1, 1, 1, 1, 1, 1, 1, 1, 1, 1, 1, 1, 1, 1, 1, 1, 1, 1, 1, 1, 1, 1, 1, 1, 1, 1, 1, 1, 1, 1, 1, 1, 1, 1, 1, 1, 1, 1, 1, 1, 1, 1, 1, 1, 1, 1, 1, 1, 1, 1, 1, 1, 1, 1, 1, 1, 1]], 'labels': [[250004, 67766, 2546, 218877, 858, 889, 10037, 6248, 1893, 17964, 42254, 2, -100, -100, -100, -100, -100, -100, -100, -100, -100, -100, -100, -100, -100, -100, -100, -100, -100, -100, -100, -100, -100, -100, -100, -100, -100, -100, -100, -100, -100, -100, -100, -100, -100, -100, -100, -100, -100, -100, -100, -100, -100, -100, -100, -100, -100, -100, -100, -100, -100, -100, -100, -100, -100, -100, -100, -100, -100, -100, -100, -100, -100, -100, -100, -100, -100, -100, -100, -100, -100, -100, -100, -100, -100, -100, -100, -100, -100, -100, -100, -100, -100, -100, -100, -100, -100, -100, -100, -100, -100, -100, -100, -100, -100, -100, -100, -100, -100, -100, -100, -100, -100, -100, -100, -100, -100, -100, -100, -100, -100, -100, -100, -100, -100, -100, -100, -100, -100, -100, -100, -100, -100, -100, -100, -100, -100, -100, -100, -100, -100, -100, -100, -100, -100, -100, -100, -100, -100, -100]]}\n"
          ]
        }
      ],
      "source": [
        "pre_single_sample = preprocess_fnc({\n",
        "    \"en\": [single_sample[\"en\"]],\n",
        "    \"vi\": [single_sample[\"vi\"]]\n",
        "})\n",
        "print(pre_single_sample)"
      ]
    },
    {
      "cell_type": "markdown",
      "metadata": {
        "id": "GONCPRF9SqRr"
      },
      "source": [
        "## Model"
      ]
    },
    {
      "cell_type": "code",
      "execution_count": null,
      "metadata": {
        "execution": {
          "iopub.execute_input": "2025-03-04T07:04:23.578097Z",
          "iopub.status.busy": "2025-03-04T07:04:23.577871Z",
          "iopub.status.idle": "2025-03-04T07:04:45.613870Z",
          "shell.execute_reply": "2025-03-04T07:04:45.612967Z",
          "shell.execute_reply.started": "2025-03-04T07:04:23.578068Z"
        },
        "id": "LQRzVEUISlmR",
        "outputId": "93878aac-45cf-4fa9-8371-9ba1c5411f0b",
        "trusted": true,
        "colab": {
          "referenced_widgets": [
            "10096a14490e40f7a4a1fe08a87047cf",
            "b6485d2435b44f1590ebbead397be53a"
          ]
        }
      },
      "outputs": [
        {
          "data": {
            "application/vnd.jupyter.widget-view+json": {
              "model_id": "10096a14490e40f7a4a1fe08a87047cf",
              "version_major": 2,
              "version_minor": 0
            },
            "text/plain": [
              "model.safetensors:   0%|          | 0.00/2.44G [00:00<?, ?B/s]"
            ]
          },
          "metadata": {},
          "output_type": "display_data"
        },
        {
          "data": {
            "application/vnd.jupyter.widget-view+json": {
              "model_id": "b6485d2435b44f1590ebbead397be53a",
              "version_major": 2,
              "version_minor": 0
            },
            "text/plain": [
              "generation_config.json:   0%|          | 0.00/261 [00:00<?, ?B/s]"
            ]
          },
          "metadata": {},
          "output_type": "display_data"
        }
      ],
      "source": [
        "model = AutoModelForSeq2SeqLM.from_pretrained(model_name, ignore_mismatched_sizes=True)"
      ]
    },
    {
      "cell_type": "markdown",
      "metadata": {
        "id": "Ndwfqd9mStAc"
      },
      "source": [
        "## Evaluation"
      ]
    },
    {
      "cell_type": "code",
      "execution_count": null,
      "metadata": {
        "execution": {
          "iopub.execute_input": "2025-03-04T07:04:45.615178Z",
          "iopub.status.busy": "2025-03-04T07:04:45.614891Z",
          "iopub.status.idle": "2025-03-04T07:04:46.266788Z",
          "shell.execute_reply": "2025-03-04T07:04:46.266168Z",
          "shell.execute_reply.started": "2025-03-04T07:04:45.615150Z"
        },
        "id": "cNjYIICnSshs",
        "trusted": true,
        "colab": {
          "referenced_widgets": [
            "07f9b66cbfe0437e94ba08bd763ef5bb"
          ]
        },
        "outputId": "e293b991-0fd0-451a-e115-5767ff5e38a6"
      },
      "outputs": [
        {
          "data": {
            "application/vnd.jupyter.widget-view+json": {
              "model_id": "07f9b66cbfe0437e94ba08bd763ef5bb",
              "version_major": 2,
              "version_minor": 0
            },
            "text/plain": [
              "Downloading builder script:   0%|          | 0.00/8.15k [00:00<?, ?B/s]"
            ]
          },
          "metadata": {},
          "output_type": "display_data"
        }
      ],
      "source": [
        "metric = evaluate.load(\"sacrebleu\")\n",
        "\n",
        "\n",
        "def postprocess_text(preds, labels):\n",
        "    preds = [pred.strip() for pred in preds] # Remove extra spaces from predictions\n",
        "    labels = [[label.strip()] for label in labels] # Ensure labels are nested lists\n",
        "    return preds, labels\n",
        "\n",
        "\n",
        "def compute_metrics(eval_preds):\n",
        "    preds, labels = eval_preds\n",
        "    if isinstance(preds, tuple):\n",
        "        preds = preds[0]\n",
        "\n",
        "    # Replace -100 with the tokenizer's padding token ID\n",
        "    preds = np.where(preds != -100, preds, tokenizer.pad_token_id)\n",
        "    labels = np.where(labels != -100, labels, tokenizer.pad_token_id)\n",
        "\n",
        "    # Decode tokenized predictions and labels into human-readable text\n",
        "    decoded_preds = tokenizer.batch_decode(preds, skip_special_tokens=True, clean_up_tokenization_spaces=True)\n",
        "    decoded_labels = tokenizer.batch_decode(labels, skip_special_tokens=True, clean_up_tokenization_spaces=True)\n",
        "\n",
        "    decoded_preds, decoded_labels = postprocess_text(decoded_preds, decoded_labels)\n",
        "    result = metric.compute(predictions=decoded_preds, references=decoded_labels)\n",
        "\n",
        "    return {\"bleu\": result[\"score\"]}"
      ]
    },
    {
      "cell_type": "markdown",
      "metadata": {
        "id": "89O969l_Zny2"
      },
      "source": [
        "## Trainer"
      ]
    },
    {
      "cell_type": "code",
      "execution_count": null,
      "metadata": {
        "execution": {
          "iopub.execute_input": "2025-03-04T07:04:46.267821Z",
          "iopub.status.busy": "2025-03-04T07:04:46.267509Z",
          "iopub.status.idle": "2025-03-04T07:04:49.468965Z",
          "shell.execute_reply": "2025-03-04T07:04:49.468021Z",
          "shell.execute_reply.started": "2025-03-04T07:04:46.267790Z"
        },
        "id": "dvd9oTefXzpK",
        "trusted": true
      },
      "outputs": [],
      "source": [
        "# os.environ[\"WANDB_DISABLED\"] = \"true\""
      ]
    },
    {
      "cell_type": "code",
      "execution_count": null,
      "metadata": {
        "execution": {
          "iopub.execute_input": "2025-03-04T07:04:49.470148Z",
          "iopub.status.busy": "2025-03-04T07:04:49.469883Z",
          "iopub.status.idle": "2025-03-04T12:33:43.631462Z",
          "shell.execute_reply": "2025-03-04T12:33:43.630705Z",
          "shell.execute_reply.started": "2025-03-04T07:04:49.470127Z"
        },
        "id": "3s_eMqkYZuYJ",
        "outputId": "6c015b8b-46ec-43a5-e95f-e32fcd901c92",
        "trusted": true
      },
      "outputs": [
        {
          "data": {
            "text/html": [
              "\n",
              "    <div>\n",
              "      \n",
              "      <progress value='8333' max='8333' style='width:300px; height:20px; vertical-align: middle;'></progress>\n",
              "      [8333/8333 5:28:49, Epoch 1/1]\n",
              "    </div>\n",
              "    <table border=\"1\" class=\"dataframe\">\n",
              "  <thead>\n",
              " <tr style=\"text-align: left;\">\n",
              "      <th>Step</th>\n",
              "      <th>Training Loss</th>\n",
              "      <th>Validation Loss</th>\n",
              "      <th>Bleu</th>\n",
              "    </tr>\n",
              "  </thead>\n",
              "  <tbody>\n",
              "    <tr>\n",
              "      <td>5000</td>\n",
              "      <td>1.162900</td>\n",
              "      <td>1.276263</td>\n",
              "      <td>34.335475</td>\n",
              "    </tr>\n",
              "  </tbody>\n",
              "</table><p>"
            ],
            "text/plain": [
              "<IPython.core.display.HTML object>"
            ]
          },
          "metadata": {},
          "output_type": "display_data"
        },
        {
          "name": "stderr",
          "output_type": "stream",
          "text": [
            "Trainer.tokenizer is now deprecated. You should use Trainer.processing_class instead.\n",
            "Trainer.tokenizer is now deprecated. You should use Trainer.processing_class instead.\n",
            "Trainer.tokenizer is now deprecated. You should use Trainer.processing_class instead.\n",
            "Trainer.tokenizer is now deprecated. You should use Trainer.processing_class instead.\n",
            "Trainer.tokenizer is now deprecated. You should use Trainer.processing_class instead.\n",
            "Trainer.tokenizer is now deprecated. You should use Trainer.processing_class instead.\n",
            "Trainer.tokenizer is now deprecated. You should use Trainer.processing_class instead.\n",
            "Trainer.tokenizer is now deprecated. You should use Trainer.processing_class instead.\n",
            "Trainer.tokenizer is now deprecated. You should use Trainer.processing_class instead.\n",
            "Trainer.tokenizer is now deprecated. You should use Trainer.processing_class instead.\n",
            "Trainer.tokenizer is now deprecated. You should use Trainer.processing_class instead.\n",
            "Trainer.tokenizer is now deprecated. You should use Trainer.processing_class instead.\n",
            "Trainer.tokenizer is now deprecated. You should use Trainer.processing_class instead.\n",
            "Trainer.tokenizer is now deprecated. You should use Trainer.processing_class instead.\n",
            "Trainer.tokenizer is now deprecated. You should use Trainer.processing_class instead.\n",
            "Trainer.tokenizer is now deprecated. You should use Trainer.processing_class instead.\n",
            "Trainer.tokenizer is now deprecated. You should use Trainer.processing_class instead.\n",
            "Trainer.tokenizer is now deprecated. You should use Trainer.processing_class instead.\n",
            "Trainer.tokenizer is now deprecated. You should use Trainer.processing_class instead.\n",
            "Trainer.tokenizer is now deprecated. You should use Trainer.processing_class instead.\n",
            "Trainer.tokenizer is now deprecated. You should use Trainer.processing_class instead.\n",
            "Trainer.tokenizer is now deprecated. You should use Trainer.processing_class instead.\n",
            "Trainer.tokenizer is now deprecated. You should use Trainer.processing_class instead.\n",
            "Trainer.tokenizer is now deprecated. You should use Trainer.processing_class instead.\n",
            "Trainer.tokenizer is now deprecated. You should use Trainer.processing_class instead.\n",
            "Trainer.tokenizer is now deprecated. You should use Trainer.processing_class instead.\n",
            "Trainer.tokenizer is now deprecated. You should use Trainer.processing_class instead.\n",
            "Trainer.tokenizer is now deprecated. You should use Trainer.processing_class instead.\n",
            "Trainer.tokenizer is now deprecated. You should use Trainer.processing_class instead.\n",
            "Trainer.tokenizer is now deprecated. You should use Trainer.processing_class instead.\n",
            "Trainer.tokenizer is now deprecated. You should use Trainer.processing_class instead.\n",
            "Trainer.tokenizer is now deprecated. You should use Trainer.processing_class instead.\n",
            "Trainer.tokenizer is now deprecated. You should use Trainer.processing_class instead.\n",
            "Trainer.tokenizer is now deprecated. You should use Trainer.processing_class instead.\n",
            "Trainer.tokenizer is now deprecated. You should use Trainer.processing_class instead.\n",
            "Trainer.tokenizer is now deprecated. You should use Trainer.processing_class instead.\n",
            "Trainer.tokenizer is now deprecated. You should use Trainer.processing_class instead.\n",
            "Trainer.tokenizer is now deprecated. You should use Trainer.processing_class instead.\n",
            "Trainer.tokenizer is now deprecated. You should use Trainer.processing_class instead.\n",
            "Trainer.tokenizer is now deprecated. You should use Trainer.processing_class instead.\n",
            "Trainer.tokenizer is now deprecated. You should use Trainer.processing_class instead.\n",
            "Trainer.tokenizer is now deprecated. You should use Trainer.processing_class instead.\n",
            "Trainer.tokenizer is now deprecated. You should use Trainer.processing_class instead.\n",
            "Trainer.tokenizer is now deprecated. You should use Trainer.processing_class instead.\n",
            "Trainer.tokenizer is now deprecated. You should use Trainer.processing_class instead.\n",
            "Trainer.tokenizer is now deprecated. You should use Trainer.processing_class instead.\n",
            "Trainer.tokenizer is now deprecated. You should use Trainer.processing_class instead.\n",
            "Trainer.tokenizer is now deprecated. You should use Trainer.processing_class instead.\n",
            "Trainer.tokenizer is now deprecated. You should use Trainer.processing_class instead.\n",
            "Trainer.tokenizer is now deprecated. You should use Trainer.processing_class instead.\n",
            "Trainer.tokenizer is now deprecated. You should use Trainer.processing_class instead.\n",
            "Trainer.tokenizer is now deprecated. You should use Trainer.processing_class instead.\n",
            "Trainer.tokenizer is now deprecated. You should use Trainer.processing_class instead.\n",
            "Trainer.tokenizer is now deprecated. You should use Trainer.processing_class instead.\n",
            "Trainer.tokenizer is now deprecated. You should use Trainer.processing_class instead.\n",
            "Trainer.tokenizer is now deprecated. You should use Trainer.processing_class instead.\n",
            "Trainer.tokenizer is now deprecated. You should use Trainer.processing_class instead.\n",
            "Trainer.tokenizer is now deprecated. You should use Trainer.processing_class instead.\n",
            "Trainer.tokenizer is now deprecated. You should use Trainer.processing_class instead.\n",
            "Trainer.tokenizer is now deprecated. You should use Trainer.processing_class instead.\n",
            "Trainer.tokenizer is now deprecated. You should use Trainer.processing_class instead.\n",
            "Trainer.tokenizer is now deprecated. You should use Trainer.processing_class instead.\n",
            "Trainer.tokenizer is now deprecated. You should use Trainer.processing_class instead.\n",
            "Trainer.tokenizer is now deprecated. You should use Trainer.processing_class instead.\n",
            "Trainer.tokenizer is now deprecated. You should use Trainer.processing_class instead.\n",
            "Trainer.tokenizer is now deprecated. You should use Trainer.processing_class instead.\n",
            "Trainer.tokenizer is now deprecated. You should use Trainer.processing_class instead.\n",
            "Trainer.tokenizer is now deprecated. You should use Trainer.processing_class instead.\n",
            "Trainer.tokenizer is now deprecated. You should use Trainer.processing_class instead.\n",
            "Trainer.tokenizer is now deprecated. You should use Trainer.processing_class instead.\n",
            "Trainer.tokenizer is now deprecated. You should use Trainer.processing_class instead.\n",
            "Trainer.tokenizer is now deprecated. You should use Trainer.processing_class instead.\n",
            "Trainer.tokenizer is now deprecated. You should use Trainer.processing_class instead.\n",
            "Trainer.tokenizer is now deprecated. You should use Trainer.processing_class instead.\n",
            "Trainer.tokenizer is now deprecated. You should use Trainer.processing_class instead.\n",
            "Trainer.tokenizer is now deprecated. You should use Trainer.processing_class instead.\n",
            "Trainer.tokenizer is now deprecated. You should use Trainer.processing_class instead.\n",
            "Trainer.tokenizer is now deprecated. You should use Trainer.processing_class instead.\n",
            "Trainer.tokenizer is now deprecated. You should use Trainer.processing_class instead.\n",
            "Trainer.tokenizer is now deprecated. You should use Trainer.processing_class instead.\n",
            "Trainer.tokenizer is now deprecated. You should use Trainer.processing_class instead.\n",
            "Trainer.tokenizer is now deprecated. You should use Trainer.processing_class instead.\n",
            "Trainer.tokenizer is now deprecated. You should use Trainer.processing_class instead.\n",
            "Trainer.tokenizer is now deprecated. You should use Trainer.processing_class instead.\n",
            "Trainer.tokenizer is now deprecated. You should use Trainer.processing_class instead.\n",
            "Trainer.tokenizer is now deprecated. You should use Trainer.processing_class instead.\n",
            "Trainer.tokenizer is now deprecated. You should use Trainer.processing_class instead.\n",
            "Trainer.tokenizer is now deprecated. You should use Trainer.processing_class instead.\n",
            "Trainer.tokenizer is now deprecated. You should use Trainer.processing_class instead.\n",
            "Trainer.tokenizer is now deprecated. You should use Trainer.processing_class instead.\n",
            "Trainer.tokenizer is now deprecated. You should use Trainer.processing_class instead.\n",
            "Trainer.tokenizer is now deprecated. You should use Trainer.processing_class instead.\n",
            "Trainer.tokenizer is now deprecated. You should use Trainer.processing_class instead.\n",
            "Trainer.tokenizer is now deprecated. You should use Trainer.processing_class instead.\n",
            "Trainer.tokenizer is now deprecated. You should use Trainer.processing_class instead.\n",
            "Trainer.tokenizer is now deprecated. You should use Trainer.processing_class instead.\n",
            "Trainer.tokenizer is now deprecated. You should use Trainer.processing_class instead.\n",
            "Trainer.tokenizer is now deprecated. You should use Trainer.processing_class instead.\n",
            "Trainer.tokenizer is now deprecated. You should use Trainer.processing_class instead.\n",
            "Trainer.tokenizer is now deprecated. You should use Trainer.processing_class instead.\n",
            "Trainer.tokenizer is now deprecated. You should use Trainer.processing_class instead.\n",
            "Trainer.tokenizer is now deprecated. You should use Trainer.processing_class instead.\n",
            "Trainer.tokenizer is now deprecated. You should use Trainer.processing_class instead.\n",
            "Trainer.tokenizer is now deprecated. You should use Trainer.processing_class instead.\n",
            "Trainer.tokenizer is now deprecated. You should use Trainer.processing_class instead.\n",
            "Trainer.tokenizer is now deprecated. You should use Trainer.processing_class instead.\n",
            "Trainer.tokenizer is now deprecated. You should use Trainer.processing_class instead.\n",
            "Trainer.tokenizer is now deprecated. You should use Trainer.processing_class instead.\n",
            "Trainer.tokenizer is now deprecated. You should use Trainer.processing_class instead.\n",
            "Trainer.tokenizer is now deprecated. You should use Trainer.processing_class instead.\n",
            "Trainer.tokenizer is now deprecated. You should use Trainer.processing_class instead.\n",
            "Trainer.tokenizer is now deprecated. You should use Trainer.processing_class instead.\n",
            "Trainer.tokenizer is now deprecated. You should use Trainer.processing_class instead.\n",
            "Trainer.tokenizer is now deprecated. You should use Trainer.processing_class instead.\n",
            "Trainer.tokenizer is now deprecated. You should use Trainer.processing_class instead.\n",
            "Trainer.tokenizer is now deprecated. You should use Trainer.processing_class instead.\n",
            "Trainer.tokenizer is now deprecated. You should use Trainer.processing_class instead.\n",
            "Trainer.tokenizer is now deprecated. You should use Trainer.processing_class instead.\n",
            "Trainer.tokenizer is now deprecated. You should use Trainer.processing_class instead.\n",
            "Trainer.tokenizer is now deprecated. You should use Trainer.processing_class instead.\n",
            "Trainer.tokenizer is now deprecated. You should use Trainer.processing_class instead.\n",
            "Trainer.tokenizer is now deprecated. You should use Trainer.processing_class instead.\n",
            "Trainer.tokenizer is now deprecated. You should use Trainer.processing_class instead.\n",
            "Trainer.tokenizer is now deprecated. You should use Trainer.processing_class instead.\n",
            "Trainer.tokenizer is now deprecated. You should use Trainer.processing_class instead.\n",
            "Trainer.tokenizer is now deprecated. You should use Trainer.processing_class instead.\n",
            "Trainer.tokenizer is now deprecated. You should use Trainer.processing_class instead.\n",
            "Trainer.tokenizer is now deprecated. You should use Trainer.processing_class instead.\n",
            "Trainer.tokenizer is now deprecated. You should use Trainer.processing_class instead.\n",
            "Trainer.tokenizer is now deprecated. You should use Trainer.processing_class instead.\n",
            "Trainer.tokenizer is now deprecated. You should use Trainer.processing_class instead.\n",
            "Trainer.tokenizer is now deprecated. You should use Trainer.processing_class instead.\n",
            "Trainer.tokenizer is now deprecated. You should use Trainer.processing_class instead.\n",
            "Trainer.tokenizer is now deprecated. You should use Trainer.processing_class instead.\n",
            "Trainer.tokenizer is now deprecated. You should use Trainer.processing_class instead.\n",
            "Trainer.tokenizer is now deprecated. You should use Trainer.processing_class instead.\n",
            "Trainer.tokenizer is now deprecated. You should use Trainer.processing_class instead.\n",
            "Trainer.tokenizer is now deprecated. You should use Trainer.processing_class instead.\n",
            "Trainer.tokenizer is now deprecated. You should use Trainer.processing_class instead.\n",
            "Trainer.tokenizer is now deprecated. You should use Trainer.processing_class instead.\n",
            "Trainer.tokenizer is now deprecated. You should use Trainer.processing_class instead.\n",
            "Trainer.tokenizer is now deprecated. You should use Trainer.processing_class instead.\n",
            "Trainer.tokenizer is now deprecated. You should use Trainer.processing_class instead.\n",
            "Trainer.tokenizer is now deprecated. You should use Trainer.processing_class instead.\n",
            "Trainer.tokenizer is now deprecated. You should use Trainer.processing_class instead.\n",
            "Trainer.tokenizer is now deprecated. You should use Trainer.processing_class instead.\n",
            "Trainer.tokenizer is now deprecated. You should use Trainer.processing_class instead.\n",
            "Trainer.tokenizer is now deprecated. You should use Trainer.processing_class instead.\n",
            "Trainer.tokenizer is now deprecated. You should use Trainer.processing_class instead.\n",
            "Trainer.tokenizer is now deprecated. You should use Trainer.processing_class instead.\n",
            "Trainer.tokenizer is now deprecated. You should use Trainer.processing_class instead.\n",
            "Trainer.tokenizer is now deprecated. You should use Trainer.processing_class instead.\n",
            "Trainer.tokenizer is now deprecated. You should use Trainer.processing_class instead.\n",
            "Trainer.tokenizer is now deprecated. You should use Trainer.processing_class instead.\n",
            "Trainer.tokenizer is now deprecated. You should use Trainer.processing_class instead.\n",
            "Trainer.tokenizer is now deprecated. You should use Trainer.processing_class instead.\n",
            "Trainer.tokenizer is now deprecated. You should use Trainer.processing_class instead.\n",
            "Trainer.tokenizer is now deprecated. You should use Trainer.processing_class instead.\n",
            "Trainer.tokenizer is now deprecated. You should use Trainer.processing_class instead.\n",
            "Trainer.tokenizer is now deprecated. You should use Trainer.processing_class instead.\n",
            "There were missing keys in the checkpoint model loaded: ['model.encoder.embed_tokens.weight', 'model.decoder.embed_tokens.weight', 'lm_head.weight'].\n"
          ]
        },
        {
          "data": {
            "text/plain": [
              "TrainOutput(global_step=8333, training_loss=1.184129833302463, metrics={'train_runtime': 19731.2371, 'train_samples_per_second': 6.757, 'train_steps_per_second': 0.422, 'total_flos': 4.23215682527232e+16, 'train_loss': 1.184129833302463, 'epoch': 1.0})"
            ]
          },
          "execution_count": 13,
          "metadata": {},
          "output_type": "execute_result"
        }
      ],
      "source": [
        "output_dir = \"./en-vi-mbart50\"\n",
        "\n",
        "training_args = Seq2SeqTrainingArguments(\n",
        "    output_dir=output_dir,\n",
        "    logging_strategy=\"steps\",\n",
        "    logging_steps=100,\n",
        "    predict_with_generate=True,\n",
        "    eval_strategy=\"steps\",\n",
        "    eval_steps=5000,\n",
        "    save_steps=5000,\n",
        "    per_device_train_batch_size=8,\n",
        "    per_device_eval_batch_size=8,\n",
        "    save_total_limit=1,\n",
        "    num_train_epochs=1,\n",
        "    load_best_model_at_end=True,\n",
        "    fp16=True,\n",
        "    dataloader_num_workers=4,\n",
        "    report_to=\"none\"\n",
        ")\n",
        "\n",
        "data_collator = DataCollatorForSeq2Seq(\n",
        "    tokenizer=tokenizer,\n",
        "    model=model,\n",
        "    label_pad_token_id=-100\n",
        ")\n",
        "\n",
        "trainer = Seq2SeqTrainer(\n",
        "    model=model,\n",
        "    args=training_args,\n",
        "    train_dataset=preprocessed_ds[\"train\"],\n",
        "    eval_dataset=preprocessed_ds[\"validation\"],\n",
        "    data_collator=data_collator,\n",
        "    compute_metrics=compute_metrics\n",
        ")\n",
        "\n",
        "trainer.train()"
      ]
    },
    {
      "cell_type": "markdown",
      "metadata": {
        "id": "RWQry2nTeQYx"
      },
      "source": [
        " Save model"
      ]
    },
    {
      "cell_type": "code",
      "execution_count": null,
      "metadata": {
        "execution": {
          "iopub.execute_input": "2025-03-04T12:33:43.632516Z",
          "iopub.status.busy": "2025-03-04T12:33:43.632293Z",
          "iopub.status.idle": "2025-03-04T12:33:49.596408Z",
          "shell.execute_reply": "2025-03-04T12:33:49.594875Z",
          "shell.execute_reply.started": "2025-03-04T12:33:43.632497Z"
        },
        "id": "1j1uBR24blFW",
        "trusted": true,
        "outputId": "4f98a957-28d2-4f75-804c-6eb24863f932"
      },
      "outputs": [
        {
          "name": "stdout",
          "output_type": "stream",
          "text": [
            "Model saved to ./en-vi-mbart50\n"
          ]
        }
      ],
      "source": [
        "model.save_pretrained(output_dir)\n",
        "tokenizer.save_pretrained(output_dir)\n",
        "print(f\"Model saved to {output_dir}\")"
      ]
    },
    {
      "cell_type": "markdown",
      "metadata": {
        "id": "qYB-SJqEQgzu"
      },
      "source": [
        "Plot training loss"
      ]
    },
    {
      "cell_type": "code",
      "execution_count": null,
      "metadata": {
        "execution": {
          "iopub.execute_input": "2025-03-04T12:33:49.598630Z",
          "iopub.status.busy": "2025-03-04T12:33:49.598194Z",
          "iopub.status.idle": "2025-03-04T12:34:00.745953Z",
          "shell.execute_reply": "2025-03-04T12:34:00.745078Z",
          "shell.execute_reply.started": "2025-03-04T12:33:49.598588Z"
        },
        "trusted": true,
        "id": "7UsOnLCYQgzu",
        "outputId": "59c3fe42-9144-4a78-a453-12b1086dda28"
      },
      "outputs": [
        {
          "data": {
            "image/png": "[encoded data removed]",
            "text/plain": [
              "<Figure size 800x500 with 1 Axes>"
            ]
          },
          "metadata": {},
          "output_type": "display_data"
        }
      ],
      "source": [
        "train_losses = [log[\"loss\"] for log in trainer.state.log_history if \"loss\" in log]\n",
        "steps = [log[\"step\"] for log in trainer.state.log_history if \"loss\" in log]\n",
        "\n",
        "plt.figure(figsize=(8, 5))\n",
        "plt.plot(steps, train_losses, label=\"Training Loss\", color=\"blue\")\n",
        "plt.xlabel(\"Steps\")\n",
        "plt.ylabel(\"Loss\")\n",
        "plt.title(\"Training Loss Over Time\")\n",
        "plt.legend()\n",
        "plt.grid()\n",
        "plt.show()"
      ]
    },
    {
      "cell_type": "markdown",
      "metadata": {
        "id": "vsG4NWXca9FE"
      },
      "source": [
        "## Inference"
      ]
    },
    {
      "cell_type": "markdown",
      "metadata": {
        "id": "fzTUrg7KeRyU"
      },
      "source": [
        "Load model"
      ]
    },
    {
      "cell_type": "code",
      "execution_count": null,
      "metadata": {
        "execution": {
          "iopub.execute_input": "2025-03-04T12:34:00.747154Z",
          "iopub.status.busy": "2025-03-04T12:34:00.746852Z",
          "iopub.status.idle": "2025-03-04T12:34:05.745726Z",
          "shell.execute_reply": "2025-03-04T12:34:05.745040Z",
          "shell.execute_reply.started": "2025-03-04T12:34:00.747121Z"
        },
        "id": "RKV_x30XddVE",
        "trusted": true
      },
      "outputs": [],
      "source": [
        "tokenizer = AutoTokenizer.from_pretrained(output_dir)\n",
        "model = AutoModelForSeq2SeqLM.from_pretrained(output_dir)"
      ]
    },
    {
      "cell_type": "code",
      "execution_count": null,
      "metadata": {
        "execution": {
          "iopub.execute_input": "2025-03-04T12:34:05.747186Z",
          "iopub.status.busy": "2025-03-04T12:34:05.746888Z",
          "iopub.status.idle": "2025-03-04T12:34:06.541753Z",
          "shell.execute_reply": "2025-03-04T12:34:06.540852Z",
          "shell.execute_reply.started": "2025-03-04T12:34:05.747151Z"
        },
        "trusted": true,
        "id": "voj5bokuQgzv",
        "outputId": "a0415349-2243-41a8-b695-5dfe6bffd439"
      },
      "outputs": [
        {
          "name": "stderr",
          "output_type": "stream",
          "text": [
            "Device set to use cuda:0\n"
          ]
        }
      ],
      "source": [
        "translator = pipeline(\"translation\", model=model, tokenizer=tokenizer)"
      ]
    },
    {
      "cell_type": "markdown",
      "metadata": {
        "id": "PKvDSQAhbzHr"
      },
      "source": [
        "Test with greedy search"
      ]
    },
    {
      "cell_type": "code",
      "execution_count": null,
      "metadata": {
        "execution": {
          "iopub.execute_input": "2025-03-04T12:34:06.543084Z",
          "iopub.status.busy": "2025-03-04T12:34:06.542773Z",
          "iopub.status.idle": "2025-03-04T12:34:06.871768Z",
          "shell.execute_reply": "2025-03-04T12:34:06.871047Z",
          "shell.execute_reply.started": "2025-03-04T12:34:06.543053Z"
        },
        "id": "ahAlELhrcST_",
        "trusted": true,
        "outputId": "c8cab428-a5ea-4ea7-f358-6bad17f2026d"
      },
      "outputs": [
        {
          "data": {
            "text/plain": [
              "[{'translation_text': 'Tôi đi học'}]"
            ]
          },
          "execution_count": 18,
          "metadata": {},
          "output_type": "execute_result"
        }
      ],
      "source": [
        "translated_text = translator(\"I go to school\", src_lang=\"en_XX\", tgt_lang=\"vi_VN\", num_beams=1)\n",
        "translated_text"
      ]
    },
    {
      "cell_type": "code",
      "execution_count": null,
      "metadata": {
        "execution": {
          "iopub.execute_input": "2025-03-04T12:34:06.872953Z",
          "iopub.status.busy": "2025-03-04T12:34:06.872634Z",
          "iopub.status.idle": "2025-03-04T12:43:07.599857Z",
          "shell.execute_reply": "2025-03-04T12:43:07.598829Z",
          "shell.execute_reply.started": "2025-03-04T12:34:06.872921Z"
        },
        "id": "51b7O4Ugb03y",
        "trusted": true,
        "outputId": "26a8b0f5-8833-43c7-a599-e8c76c61f6e3"
      },
      "outputs": [
        {
          "name": "stderr",
          "output_type": "stream",
          "text": [
            "You seem to be using the pipelines sequentially on GPU. In order to maximize efficiency please use a dataset\n"
          ]
        },
        {
          "name": "stdout",
          "output_type": "stream",
          "text": [
            "BLEU Score (greedy): 45.28\n"
          ]
        }
      ],
      "source": [
        "pred_sentences = []\n",
        "for text in ds[\"test\"][\"en\"]:\n",
        "    output = translator(\n",
        "        text,\n",
        "        max_length=MAX_LEN,\n",
        "        num_beams=1,\n",
        "        do_sample=False,\n",
        "        src_lang=\"en_XX\",\n",
        "        tgt_lang=\"vi_VN\"\n",
        "    )\n",
        "    pred_sentences.append(output[0][\"translation_text\"])\n",
        "\n",
        "references = [[ref] for ref in ds[\"test\"][\"vi\"]]\n",
        "bleu_score = sacrebleu.corpus_bleu(pred_sentences, references, force=True)\n",
        "print(f\"BLEU Score (greedy): {bleu_score.score:.2f}\")"
      ]
    },
    {
      "cell_type": "markdown",
      "metadata": {
        "id": "UA1yIHfMbxsl"
      },
      "source": [
        "Test with beam search"
      ]
    },
    {
      "cell_type": "code",
      "execution_count": null,
      "metadata": {
        "execution": {
          "iopub.execute_input": "2025-03-04T12:43:07.601168Z",
          "iopub.status.busy": "2025-03-04T12:43:07.600809Z",
          "iopub.status.idle": "2025-03-04T12:43:07.697880Z",
          "shell.execute_reply": "2025-03-04T12:43:07.697050Z",
          "shell.execute_reply.started": "2025-03-04T12:43:07.601134Z"
        },
        "id": "G2XZhbbWbl-D",
        "trusted": true,
        "outputId": "e4773056-1c24-40b8-a5f3-252915fc2541"
      },
      "outputs": [
        {
          "data": {
            "text/plain": [
              "[{'translation_text': 'Tôi đến trường'}]"
            ]
          },
          "execution_count": 20,
          "metadata": {},
          "output_type": "execute_result"
        }
      ],
      "source": [
        "translated_text = translator(\"I go to school\", src_lang=\"en_XX\", tgt_lang=\"vi_VN\", num_beams=2)\n",
        "translated_text"
      ]
    },
    {
      "cell_type": "code",
      "execution_count": null,
      "metadata": {
        "execution": {
          "iopub.execute_input": "2025-03-04T12:43:07.699169Z",
          "iopub.status.busy": "2025-03-04T12:43:07.698862Z",
          "iopub.status.idle": "2025-03-04T12:56:57.861118Z",
          "shell.execute_reply": "2025-03-04T12:56:57.860249Z",
          "shell.execute_reply.started": "2025-03-04T12:43:07.699139Z"
        },
        "trusted": true,
        "id": "z_25GCHCQgzw",
        "outputId": "c1a19f9e-013b-433f-a4e3-805d71764c55"
      },
      "outputs": [
        {
          "name": "stdout",
          "output_type": "stream",
          "text": [
            "BLEU Score (beam search): 50.93\n"
          ]
        }
      ],
      "source": [
        "pred_sentences_beam = []\n",
        "\n",
        "pred_sentences_beam = []\n",
        "for text in ds[\"test\"][\"en\"]:\n",
        "    output = translator(\n",
        "        text,\n",
        "        max_length=MAX_LEN,\n",
        "        num_beams=5,\n",
        "        src_lang=\"en_XX\",\n",
        "        tgt_lang=\"vi_VN\"\n",
        "    )\n",
        "    pred_sentences_beam.append(output[0][\"translation_text\"])\n",
        "\n",
        "\n",
        "bleu_score_beam = sacrebleu.corpus_bleu(pred_sentences_beam, references, force=True)\n",
        "print(f\"BLEU Score (beam search): {bleu_score_beam.score:.2f}\")"
      ]
    },
    {
      "cell_type": "code",
      "execution_count": null,
      "metadata": {
        "execution": {
          "iopub.execute_input": "2025-03-04T12:56:57.862516Z",
          "iopub.status.busy": "2025-03-04T12:56:57.862199Z",
          "iopub.status.idle": "2025-03-04T12:56:57.866759Z",
          "shell.execute_reply": "2025-03-04T12:56:57.866117Z",
          "shell.execute_reply.started": "2025-03-04T12:56:57.862485Z"
        },
        "trusted": true,
        "id": "_3g-NRFVQgzw",
        "outputId": "b3f947e6-3898-4bc5-e7ec-cef90cb49881"
      },
      "outputs": [
        {
          "name": "stdout",
          "output_type": "stream",
          "text": [
            "BLEU Score (greedy): 45.28\n",
            "BLEU Score (beam search): 50.93\n"
          ]
        }
      ],
      "source": [
        "print(f\"BLEU Score (greedy): {bleu_score.score:.2f}\")\n",
        "print(f\"BLEU Score (beam search): {bleu_score_beam.score:.2f}\")"
      ]
    }
  ],
  "metadata": {
    "accelerator": "GPU",
    "colab": {
      "gpuType": "T4",
      "provenance": [],
      "include_colab_link": true
    },
    "kaggle": {
      "accelerator": "nvidiaTeslaT4",
      "dataSources": [],
      "dockerImageVersionId": 30919,
      "isGpuEnabled": true,
      "isInternetEnabled": true,
      "language": "python",
      "sourceType": "notebook"
    },
    "kernelspec": {
      "display_name": "Python 3",
      "language": "python",
      "name": "python3"
    },
    "language_info": {
      "codemirror_mode": {
        "name": "ipython",
        "version": 3
      },
      "file_extension": ".py",
      "mimetype": "text/x-python",
      "name": "python",
      "nbconvert_exporter": "python",
      "pygments_lexer": "ipython3",
      "version": "3.10.12"
    },
    "widgets": {
      "application/vnd.jupyter.widget-state+json": {}
    }
  },
  "nbformat": 4,
  "nbformat_minor": 0
}